{
  "nbformat": 4,
  "nbformat_minor": 0,
  "metadata": {
    "colab": {
      "provenance": []
    },
    "kernelspec": {
      "name": "python3",
      "display_name": "Python 3"
    },
    "language_info": {
      "name": "python"
    }
  },
  "cells": [
    {
      "cell_type": "code",
      "execution_count": null,
      "metadata": {
        "id": "Ovz-Jw5cxAm9"
      },
      "outputs": [],
      "source": [
        "# specify the model\n",
        "import tensorflow as tf\n",
        "from tensorflow.keras import Sequential\n",
        "from tensorflow.keras.layers import Dense\n",
        "model = Sequential([\n",
        "    Dense(unit = 25, activation = 'relu'),\n",
        "    Dense(unit = 15, activation = 'relu'),\n",
        "    Dense(unit = 10, activation = 'softmax')\n",
        "])\n",
        "\n",
        "# specify loss and cost\n",
        "from tensorflow.keras.losses import SparseCategoricalCrossentropy\n",
        "model.compile(loss = SparseCategoricalCrossentropy)\n",
        "\n",
        "#Train on data to minimise J(w,b)\n",
        "model.fit(X,Y,epochs = 100)\n",
        "\n",
        "#There's a better implementation than this for the same."
      ]
    }
  ]
}