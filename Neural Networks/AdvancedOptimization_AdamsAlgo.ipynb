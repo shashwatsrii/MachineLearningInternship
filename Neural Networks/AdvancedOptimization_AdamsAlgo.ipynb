{
  "nbformat": 4,
  "nbformat_minor": 0,
  "metadata": {
    "colab": {
      "provenance": []
    },
    "kernelspec": {
      "name": "python3",
      "display_name": "Python 3"
    },
    "language_info": {
      "name": "python"
    }
  },
  "cells": [
    {
      "cell_type": "code",
      "execution_count": null,
      "metadata": {
        "id": "uO30gPGdhvqA"
      },
      "outputs": [],
      "source": [
        "import tensorflow as tf\n",
        "from tensorflow.keras import Sequential\n",
        "from tensorflow.keras.layers import Dense\n",
        "from tensorflow.keras.losses import SparseCategoricalCrossentropy\n",
        "\n",
        "model= Sequential([\n",
        "    Dense(unit=25, activation = 'sigmoid'),\n",
        "    Dense(unit=15, activation = 'sigmoid'),\n",
        "    Dense(unit=10, activation = 'linear')\n",
        "])\n",
        "\n",
        "model.compile(optimizer = tf.keras.optimizers.Adam(learning_rate = 1e-3),\n",
        "              loss = SparseCategoricalCrossentropy(from_logits=True))\n",
        "\n",
        "model.fit(X,Y,epochs = 100)"
      ]
    }
  ]
}