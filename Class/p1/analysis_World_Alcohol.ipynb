{
 "cells": [
  {
   "cell_type": "code",
   "execution_count": 7,
   "metadata": {},
   "outputs": [],
   "source": [
    "import pandas as pd"
   ]
  },
  {
   "cell_type": "code",
   "execution_count": 20,
   "metadata": {},
   "outputs": [
    {
     "data": {
      "text/html": [
       "<div>\n",
       "<style scoped>\n",
       "    .dataframe tbody tr th:only-of-type {\n",
       "        vertical-align: middle;\n",
       "    }\n",
       "\n",
       "    .dataframe tbody tr th {\n",
       "        vertical-align: top;\n",
       "    }\n",
       "\n",
       "    .dataframe thead th {\n",
       "        text-align: right;\n",
       "    }\n",
       "</style>\n",
       "<table border=\"1\" class=\"dataframe\">\n",
       "  <thead>\n",
       "    <tr style=\"text-align: right;\">\n",
       "      <th></th>\n",
       "      <th>Year</th>\n",
       "      <th>WHO region</th>\n",
       "      <th>Country</th>\n",
       "      <th>Beverage Types</th>\n",
       "      <th>Display Value</th>\n",
       "    </tr>\n",
       "  </thead>\n",
       "  <tbody>\n",
       "    <tr>\n",
       "      <th>0</th>\n",
       "      <td>1986</td>\n",
       "      <td>Western Pacific</td>\n",
       "      <td>Viet Nam</td>\n",
       "      <td>Wine</td>\n",
       "      <td>0.00</td>\n",
       "    </tr>\n",
       "    <tr>\n",
       "      <th>1</th>\n",
       "      <td>1986</td>\n",
       "      <td>Americas</td>\n",
       "      <td>Uruguay</td>\n",
       "      <td>Other</td>\n",
       "      <td>0.50</td>\n",
       "    </tr>\n",
       "    <tr>\n",
       "      <th>2</th>\n",
       "      <td>1985</td>\n",
       "      <td>Africa</td>\n",
       "      <td>Cte d'Ivoire</td>\n",
       "      <td>Wine</td>\n",
       "      <td>1.62</td>\n",
       "    </tr>\n",
       "    <tr>\n",
       "      <th>3</th>\n",
       "      <td>1986</td>\n",
       "      <td>Americas</td>\n",
       "      <td>Colombia</td>\n",
       "      <td>Beer</td>\n",
       "      <td>4.27</td>\n",
       "    </tr>\n",
       "    <tr>\n",
       "      <th>4</th>\n",
       "      <td>1987</td>\n",
       "      <td>Americas</td>\n",
       "      <td>Saint Kitts and Nevis</td>\n",
       "      <td>Beer</td>\n",
       "      <td>1.98</td>\n",
       "    </tr>\n",
       "  </tbody>\n",
       "</table>\n",
       "</div>"
      ],
      "text/plain": [
       "   Year       WHO region                Country Beverage Types  Display Value\n",
       "0  1986  Western Pacific               Viet Nam           Wine           0.00\n",
       "1  1986         Americas                Uruguay          Other           0.50\n",
       "2  1985           Africa           Cte d'Ivoire           Wine           1.62\n",
       "3  1986         Americas               Colombia           Beer           4.27\n",
       "4  1987         Americas  Saint Kitts and Nevis           Beer           1.98"
      ]
     },
     "execution_count": 20,
     "metadata": {},
     "output_type": "execute_result"
    }
   ],
   "source": [
    "df = pd.read_csv(\"world_alcohol.csv\")\n",
    "df.head()"
   ]
  },
  {
   "cell_type": "code",
   "execution_count": 37,
   "metadata": {},
   "outputs": [
    {
     "name": "stdout",
     "output_type": "stream",
     "text": [
      "<class 'pandas.core.frame.DataFrame'>\n",
      "RangeIndex: 100 entries, 0 to 99\n",
      "Data columns (total 5 columns):\n",
      " #   Column          Non-Null Count  Dtype  \n",
      "---  ------          --------------  -----  \n",
      " 0   Year            100 non-null    int64  \n",
      " 1   WHO region      100 non-null    object \n",
      " 2   Country         100 non-null    object \n",
      " 3   Beverage Types  100 non-null    object \n",
      " 4   Display Value   95 non-null     float64\n",
      "dtypes: float64(1), int64(1), object(3)\n",
      "memory usage: 4.0+ KB\n"
     ]
    }
   ],
   "source": [
    "df.info()"
   ]
  },
  {
   "cell_type": "code",
   "execution_count": 21,
   "metadata": {},
   "outputs": [
    {
     "data": {
      "text/plain": [
       "(100, 5)"
      ]
     },
     "execution_count": 21,
     "metadata": {},
     "output_type": "execute_result"
    }
   ],
   "source": [
    "df.shape"
   ]
  },
  {
   "attachments": {},
   "cell_type": "markdown",
   "metadata": {},
   "source": [
    "1. Write a Pandas program to find and drop the missing values from World alcohol consumption dataset."
   ]
  },
  {
   "cell_type": "code",
   "execution_count": 22,
   "metadata": {},
   "outputs": [
    {
     "data": {
      "text/plain": [
       "Year              0\n",
       "WHO region        0\n",
       "Country           0\n",
       "Beverage Types    0\n",
       "Display Value     5\n",
       "dtype: int64"
      ]
     },
     "execution_count": 22,
     "metadata": {},
     "output_type": "execute_result"
    }
   ],
   "source": [
    "df.isnull().sum()"
   ]
  },
  {
   "cell_type": "code",
   "execution_count": 23,
   "metadata": {},
   "outputs": [
    {
     "data": {
      "text/html": [
       "<div>\n",
       "<style scoped>\n",
       "    .dataframe tbody tr th:only-of-type {\n",
       "        vertical-align: middle;\n",
       "    }\n",
       "\n",
       "    .dataframe tbody tr th {\n",
       "        vertical-align: top;\n",
       "    }\n",
       "\n",
       "    .dataframe thead th {\n",
       "        text-align: right;\n",
       "    }\n",
       "</style>\n",
       "<table border=\"1\" class=\"dataframe\">\n",
       "  <thead>\n",
       "    <tr style=\"text-align: right;\">\n",
       "      <th></th>\n",
       "      <th>Year</th>\n",
       "      <th>WHO region</th>\n",
       "      <th>Country</th>\n",
       "      <th>Beverage Types</th>\n",
       "      <th>Display Value</th>\n",
       "    </tr>\n",
       "  </thead>\n",
       "  <tbody>\n",
       "    <tr>\n",
       "      <th>0</th>\n",
       "      <td>1986</td>\n",
       "      <td>Western Pacific</td>\n",
       "      <td>Viet Nam</td>\n",
       "      <td>Wine</td>\n",
       "      <td>0.00</td>\n",
       "    </tr>\n",
       "    <tr>\n",
       "      <th>1</th>\n",
       "      <td>1986</td>\n",
       "      <td>Americas</td>\n",
       "      <td>Uruguay</td>\n",
       "      <td>Other</td>\n",
       "      <td>0.50</td>\n",
       "    </tr>\n",
       "    <tr>\n",
       "      <th>2</th>\n",
       "      <td>1985</td>\n",
       "      <td>Africa</td>\n",
       "      <td>Cte d'Ivoire</td>\n",
       "      <td>Wine</td>\n",
       "      <td>1.62</td>\n",
       "    </tr>\n",
       "    <tr>\n",
       "      <th>3</th>\n",
       "      <td>1986</td>\n",
       "      <td>Americas</td>\n",
       "      <td>Colombia</td>\n",
       "      <td>Beer</td>\n",
       "      <td>4.27</td>\n",
       "    </tr>\n",
       "    <tr>\n",
       "      <th>4</th>\n",
       "      <td>1987</td>\n",
       "      <td>Americas</td>\n",
       "      <td>Saint Kitts and Nevis</td>\n",
       "      <td>Beer</td>\n",
       "      <td>1.98</td>\n",
       "    </tr>\n",
       "    <tr>\n",
       "      <th>...</th>\n",
       "      <td>...</td>\n",
       "      <td>...</td>\n",
       "      <td>...</td>\n",
       "      <td>...</td>\n",
       "      <td>...</td>\n",
       "    </tr>\n",
       "    <tr>\n",
       "      <th>95</th>\n",
       "      <td>1984</td>\n",
       "      <td>Africa</td>\n",
       "      <td>Niger</td>\n",
       "      <td>Other</td>\n",
       "      <td>0.00</td>\n",
       "    </tr>\n",
       "    <tr>\n",
       "      <th>96</th>\n",
       "      <td>1985</td>\n",
       "      <td>Europe</td>\n",
       "      <td>Luxembourg</td>\n",
       "      <td>Wine</td>\n",
       "      <td>7.38</td>\n",
       "    </tr>\n",
       "    <tr>\n",
       "      <th>97</th>\n",
       "      <td>1984</td>\n",
       "      <td>South-East Asia</td>\n",
       "      <td>Indonesia</td>\n",
       "      <td>Wine</td>\n",
       "      <td>0.00</td>\n",
       "    </tr>\n",
       "    <tr>\n",
       "      <th>98</th>\n",
       "      <td>1984</td>\n",
       "      <td>Africa</td>\n",
       "      <td>Equatorial Guinea</td>\n",
       "      <td>Wine</td>\n",
       "      <td>0.00</td>\n",
       "    </tr>\n",
       "    <tr>\n",
       "      <th>99</th>\n",
       "      <td>1985</td>\n",
       "      <td>South-East Asia</td>\n",
       "      <td>Democratic People's Republic of Korea</td>\n",
       "      <td>Wine</td>\n",
       "      <td>0.00</td>\n",
       "    </tr>\n",
       "  </tbody>\n",
       "</table>\n",
       "<p>95 rows × 5 columns</p>\n",
       "</div>"
      ],
      "text/plain": [
       "    Year       WHO region                                Country   \n",
       "0   1986  Western Pacific                               Viet Nam  \\\n",
       "1   1986         Americas                                Uruguay   \n",
       "2   1985           Africa                           Cte d'Ivoire   \n",
       "3   1986         Americas                               Colombia   \n",
       "4   1987         Americas                  Saint Kitts and Nevis   \n",
       "..   ...              ...                                    ...   \n",
       "95  1984           Africa                                  Niger   \n",
       "96  1985           Europe                             Luxembourg   \n",
       "97  1984  South-East Asia                              Indonesia   \n",
       "98  1984           Africa                      Equatorial Guinea   \n",
       "99  1985  South-East Asia  Democratic People's Republic of Korea   \n",
       "\n",
       "   Beverage Types  Display Value  \n",
       "0            Wine           0.00  \n",
       "1           Other           0.50  \n",
       "2            Wine           1.62  \n",
       "3            Beer           4.27  \n",
       "4            Beer           1.98  \n",
       "..            ...            ...  \n",
       "95          Other           0.00  \n",
       "96           Wine           7.38  \n",
       "97           Wine           0.00  \n",
       "98           Wine           0.00  \n",
       "99           Wine           0.00  \n",
       "\n",
       "[95 rows x 5 columns]"
      ]
     },
     "execution_count": 23,
     "metadata": {},
     "output_type": "execute_result"
    }
   ],
   "source": [
    "\n",
    "df2 = df.dropna(how = 'any')\n",
    "df2"
   ]
  },
  {
   "attachments": {},
   "cell_type": "markdown",
   "metadata": {},
   "source": [
    "2. Write a Pandas program to remove the duplicates from WHO region column of World alcohol consumption dataset."
   ]
  },
  {
   "cell_type": "code",
   "execution_count": 26,
   "metadata": {},
   "outputs": [
    {
     "data": {
      "text/plain": [
       "100"
      ]
     },
     "execution_count": 26,
     "metadata": {},
     "output_type": "execute_result"
    }
   ],
   "source": [
    "df['WHO region'].count()"
   ]
  },
  {
   "cell_type": "code",
   "execution_count": 29,
   "metadata": {},
   "outputs": [
    {
     "data": {
      "text/plain": [
       "0           Western Pacific\n",
       "1                  Americas\n",
       "2                    Africa\n",
       "13    Eastern Mediterranean\n",
       "18                   Europe\n",
       "20          South-East Asia\n",
       "Name: WHO region, dtype: object"
      ]
     },
     "execution_count": 29,
     "metadata": {},
     "output_type": "execute_result"
    }
   ],
   "source": [
    "df['WHO region'].drop_duplicates()\n"
   ]
  },
  {
   "attachments": {},
   "cell_type": "markdown",
   "metadata": {},
   "source": [
    "3. Write a Pandas program to find out the alcohol consumption of a given year from the world alcohol consumption dataset."
   ]
  },
  {
   "cell_type": "code",
   "execution_count": 35,
   "metadata": {},
   "outputs": [
    {
     "data": {
      "text/plain": [
       "Year\n",
       "1984    19.17\n",
       "1985    20.39\n",
       "1986    29.03\n",
       "1987    13.99\n",
       "1989    22.21\n",
       "Name: Display Value, dtype: float64"
      ]
     },
     "execution_count": 35,
     "metadata": {},
     "output_type": "execute_result"
    }
   ],
   "source": [
    "df.groupby('Year')['Display Value'].sum()\n"
   ]
  },
  {
   "attachments": {},
   "cell_type": "markdown",
   "metadata": {},
   "source": [
    "4. Write a Pandas program to find out the alcohol consumption details in the year 1986 where WHO region is Western Pacific; and country is VietNam from the world alcohol consumption dataset."
   ]
  },
  {
   "cell_type": "code",
   "execution_count": 39,
   "metadata": {},
   "outputs": [
    {
     "name": "stdout",
     "output_type": "stream",
     "text": [
      "0.0\n"
     ]
    },
    {
     "name": "stderr",
     "output_type": "stream",
     "text": [
      "C:\\Users\\HP\\AppData\\Local\\Temp\\ipykernel_21544\\4270706517.py:5: UserWarning: Boolean Series key will be reindexed to match DataFrame index.\n",
      "  df2 = df1[mask2]\n",
      "C:\\Users\\HP\\AppData\\Local\\Temp\\ipykernel_21544\\4270706517.py:6: UserWarning: Boolean Series key will be reindexed to match DataFrame index.\n",
      "  df3 = df2[mask3]\n"
     ]
    }
   ],
   "source": [
    "mask1 = df['Year'] == 1986\n",
    "mask2 = df['WHO region'] == 'Western Pacific'\n",
    "mask3 = df['Country'] == 'Viet Nam'\n",
    "df1 = df[mask1]\n",
    "df2 = df1[mask2]\n",
    "df3 = df2[mask3]\n",
    "print(df3['Display Value'].sum())"
   ]
  },
  {
   "attachments": {},
   "cell_type": "markdown",
   "metadata": {},
   "source": [
    "5. Write a Pandas program to find out the alcohol consumption details in the year 1986 or\n",
    "1989 where WHO region is Americas from the world alcohol consumption dataset."
   ]
  },
  {
   "cell_type": "code",
   "execution_count": 43,
   "metadata": {},
   "outputs": [
    {
     "name": "stdout",
     "output_type": "stream",
     "text": [
      "16.68\n"
     ]
    }
   ],
   "source": [
    "df3 = df[((df['Year']==1986) | (df['Year']==1989))  & (df['WHO region']=='Americas')]\n",
    "print(df3['Display Value'].sum())"
   ]
  },
  {
   "attachments": {},
   "cell_type": "markdown",
   "metadata": {},
   "source": [
    "6. Write a Pandas program to find out the WHO region, Country, Beverage Types in the\n",
    "year 1986 or 1989 where WHO region is Americas or Europe from the world alcohol\n",
    "consumption dataset."
   ]
  },
  {
   "cell_type": "code",
   "execution_count": 53,
   "metadata": {},
   "outputs": [
    {
     "data": {
      "text/html": [
       "<div>\n",
       "<style scoped>\n",
       "    .dataframe tbody tr th:only-of-type {\n",
       "        vertical-align: middle;\n",
       "    }\n",
       "\n",
       "    .dataframe tbody tr th {\n",
       "        vertical-align: top;\n",
       "    }\n",
       "\n",
       "    .dataframe thead th {\n",
       "        text-align: right;\n",
       "    }\n",
       "</style>\n",
       "<table border=\"1\" class=\"dataframe\">\n",
       "  <thead>\n",
       "    <tr style=\"text-align: right;\">\n",
       "      <th></th>\n",
       "      <th>WHO region</th>\n",
       "      <th>Country</th>\n",
       "      <th>Beverage Types</th>\n",
       "    </tr>\n",
       "  </thead>\n",
       "  <tbody>\n",
       "    <tr>\n",
       "      <th>1</th>\n",
       "      <td>Americas</td>\n",
       "      <td>Uruguay</td>\n",
       "      <td>Other</td>\n",
       "    </tr>\n",
       "    <tr>\n",
       "      <th>3</th>\n",
       "      <td>Americas</td>\n",
       "      <td>Colombia</td>\n",
       "      <td>Beer</td>\n",
       "    </tr>\n",
       "    <tr>\n",
       "      <th>8</th>\n",
       "      <td>Americas</td>\n",
       "      <td>Antigua and Barbuda</td>\n",
       "      <td>Spirits</td>\n",
       "    </tr>\n",
       "    <tr>\n",
       "      <th>11</th>\n",
       "      <td>Americas</td>\n",
       "      <td>Guatemala</td>\n",
       "      <td>Beer</td>\n",
       "    </tr>\n",
       "    <tr>\n",
       "      <th>21</th>\n",
       "      <td>Americas</td>\n",
       "      <td>Costa Rica</td>\n",
       "      <td>Spirits</td>\n",
       "    </tr>\n",
       "    <tr>\n",
       "      <th>29</th>\n",
       "      <td>Europe</td>\n",
       "      <td>Italy</td>\n",
       "      <td>Other</td>\n",
       "    </tr>\n",
       "    <tr>\n",
       "      <th>34</th>\n",
       "      <td>Europe</td>\n",
       "      <td>Russian Federation</td>\n",
       "      <td>Wine</td>\n",
       "    </tr>\n",
       "    <tr>\n",
       "      <th>37</th>\n",
       "      <td>Europe</td>\n",
       "      <td>Sweden</td>\n",
       "      <td>Beer</td>\n",
       "    </tr>\n",
       "    <tr>\n",
       "      <th>41</th>\n",
       "      <td>Europe</td>\n",
       "      <td>Czech Republic</td>\n",
       "      <td>Beer</td>\n",
       "    </tr>\n",
       "    <tr>\n",
       "      <th>47</th>\n",
       "      <td>Americas</td>\n",
       "      <td>Mexico</td>\n",
       "      <td>Other</td>\n",
       "    </tr>\n",
       "    <tr>\n",
       "      <th>49</th>\n",
       "      <td>Europe</td>\n",
       "      <td>Malta</td>\n",
       "      <td>Wine</td>\n",
       "    </tr>\n",
       "    <tr>\n",
       "      <th>55</th>\n",
       "      <td>Americas</td>\n",
       "      <td>Suriname</td>\n",
       "      <td>Wine</td>\n",
       "    </tr>\n",
       "    <tr>\n",
       "      <th>57</th>\n",
       "      <td>Europe</td>\n",
       "      <td>Croatia</td>\n",
       "      <td>Wine</td>\n",
       "    </tr>\n",
       "    <tr>\n",
       "      <th>64</th>\n",
       "      <td>Americas</td>\n",
       "      <td>Bolivia (Plurinational State of)</td>\n",
       "      <td>Beer</td>\n",
       "    </tr>\n",
       "    <tr>\n",
       "      <th>74</th>\n",
       "      <td>Americas</td>\n",
       "      <td>Bolivia (Plurinational State of)</td>\n",
       "      <td>Spirits</td>\n",
       "    </tr>\n",
       "    <tr>\n",
       "      <th>78</th>\n",
       "      <td>Americas</td>\n",
       "      <td>Jamaica</td>\n",
       "      <td>Other</td>\n",
       "    </tr>\n",
       "    <tr>\n",
       "      <th>79</th>\n",
       "      <td>Europe</td>\n",
       "      <td>Finland</td>\n",
       "      <td>Other</td>\n",
       "    </tr>\n",
       "    <tr>\n",
       "      <th>83</th>\n",
       "      <td>Europe</td>\n",
       "      <td>Ukraine</td>\n",
       "      <td>Other</td>\n",
       "    </tr>\n",
       "    <tr>\n",
       "      <th>86</th>\n",
       "      <td>Americas</td>\n",
       "      <td>Bahamas</td>\n",
       "      <td>Wine</td>\n",
       "    </tr>\n",
       "    <tr>\n",
       "      <th>91</th>\n",
       "      <td>Europe</td>\n",
       "      <td>Bulgaria</td>\n",
       "      <td>Beer</td>\n",
       "    </tr>\n",
       "  </tbody>\n",
       "</table>\n",
       "</div>"
      ],
      "text/plain": [
       "   WHO region                           Country Beverage Types\n",
       "1    Americas                           Uruguay          Other\n",
       "3    Americas                          Colombia           Beer\n",
       "8    Americas               Antigua and Barbuda        Spirits\n",
       "11   Americas                         Guatemala           Beer\n",
       "21   Americas                        Costa Rica        Spirits\n",
       "29     Europe                             Italy          Other\n",
       "34     Europe                Russian Federation           Wine\n",
       "37     Europe                            Sweden           Beer\n",
       "41     Europe                    Czech Republic           Beer\n",
       "47   Americas                            Mexico          Other\n",
       "49     Europe                             Malta           Wine\n",
       "55   Americas                          Suriname           Wine\n",
       "57     Europe                           Croatia           Wine\n",
       "64   Americas  Bolivia (Plurinational State of)           Beer\n",
       "74   Americas  Bolivia (Plurinational State of)        Spirits\n",
       "78   Americas                           Jamaica          Other\n",
       "79     Europe                           Finland          Other\n",
       "83     Europe                           Ukraine          Other\n",
       "86   Americas                           Bahamas           Wine\n",
       "91     Europe                          Bulgaria           Beer"
      ]
     },
     "execution_count": 53,
     "metadata": {},
     "output_type": "execute_result"
    }
   ],
   "source": [
    "df4 = df[((df['Year']==1986) | (df['Year']==1989))  & ((df['WHO region']=='Americas') | (df['WHO region']=='Europe'))]\n",
    "df4[['WHO region','Country','Beverage Types']]"
   ]
  },
  {
   "attachments": {},
   "cell_type": "markdown",
   "metadata": {},
   "source": [
    "7. Write a Pandas program to filter the specified columns and records by range from world\n",
    "alcohol consumption dataset."
   ]
  },
  {
   "cell_type": "code",
   "execution_count": 55,
   "metadata": {},
   "outputs": [
    {
     "data": {
      "text/html": [
       "<div>\n",
       "<style scoped>\n",
       "    .dataframe tbody tr th:only-of-type {\n",
       "        vertical-align: middle;\n",
       "    }\n",
       "\n",
       "    .dataframe tbody tr th {\n",
       "        vertical-align: top;\n",
       "    }\n",
       "\n",
       "    .dataframe thead th {\n",
       "        text-align: right;\n",
       "    }\n",
       "</style>\n",
       "<table border=\"1\" class=\"dataframe\">\n",
       "  <thead>\n",
       "    <tr style=\"text-align: right;\">\n",
       "      <th></th>\n",
       "      <th>Country</th>\n",
       "      <th>Beverage Types</th>\n",
       "    </tr>\n",
       "  </thead>\n",
       "  <tbody>\n",
       "    <tr>\n",
       "      <th>1</th>\n",
       "      <td>Uruguay</td>\n",
       "      <td>Other</td>\n",
       "    </tr>\n",
       "    <tr>\n",
       "      <th>2</th>\n",
       "      <td>Cte d'Ivoire</td>\n",
       "      <td>Wine</td>\n",
       "    </tr>\n",
       "    <tr>\n",
       "      <th>3</th>\n",
       "      <td>Colombia</td>\n",
       "      <td>Beer</td>\n",
       "    </tr>\n",
       "    <tr>\n",
       "      <th>4</th>\n",
       "      <td>Saint Kitts and Nevis</td>\n",
       "      <td>Beer</td>\n",
       "    </tr>\n",
       "    <tr>\n",
       "      <th>5</th>\n",
       "      <td>Guatemala</td>\n",
       "      <td>Other</td>\n",
       "    </tr>\n",
       "    <tr>\n",
       "      <th>6</th>\n",
       "      <td>Mauritius</td>\n",
       "      <td>Wine</td>\n",
       "    </tr>\n",
       "    <tr>\n",
       "      <th>7</th>\n",
       "      <td>Angola</td>\n",
       "      <td>Spirits</td>\n",
       "    </tr>\n",
       "    <tr>\n",
       "      <th>8</th>\n",
       "      <td>Antigua and Barbuda</td>\n",
       "      <td>Spirits</td>\n",
       "    </tr>\n",
       "    <tr>\n",
       "      <th>9</th>\n",
       "      <td>Nigeria</td>\n",
       "      <td>Other</td>\n",
       "    </tr>\n",
       "    <tr>\n",
       "      <th>10</th>\n",
       "      <td>Botswana</td>\n",
       "      <td>Wine</td>\n",
       "    </tr>\n",
       "    <tr>\n",
       "      <th>11</th>\n",
       "      <td>Guatemala</td>\n",
       "      <td>Beer</td>\n",
       "    </tr>\n",
       "    <tr>\n",
       "      <th>12</th>\n",
       "      <td>Lao People's Democratic Republic</td>\n",
       "      <td>Beer</td>\n",
       "    </tr>\n",
       "    <tr>\n",
       "      <th>13</th>\n",
       "      <td>Afghanistan</td>\n",
       "      <td>Other</td>\n",
       "    </tr>\n",
       "    <tr>\n",
       "      <th>14</th>\n",
       "      <td>Viet Nam</td>\n",
       "      <td>Spirits</td>\n",
       "    </tr>\n",
       "    <tr>\n",
       "      <th>15</th>\n",
       "      <td>Guinea-Bissau</td>\n",
       "      <td>Wine</td>\n",
       "    </tr>\n",
       "    <tr>\n",
       "      <th>16</th>\n",
       "      <td>Costa Rica</td>\n",
       "      <td>Wine</td>\n",
       "    </tr>\n",
       "    <tr>\n",
       "      <th>17</th>\n",
       "      <td>Seychelles</td>\n",
       "      <td>Beer</td>\n",
       "    </tr>\n",
       "    <tr>\n",
       "      <th>18</th>\n",
       "      <td>Norway</td>\n",
       "      <td>Spirits</td>\n",
       "    </tr>\n",
       "    <tr>\n",
       "      <th>19</th>\n",
       "      <td>Kenya</td>\n",
       "      <td>Beer</td>\n",
       "    </tr>\n",
       "  </tbody>\n",
       "</table>\n",
       "</div>"
      ],
      "text/plain": [
       "                             Country Beverage Types\n",
       "1                            Uruguay          Other\n",
       "2                       Cte d'Ivoire           Wine\n",
       "3                           Colombia           Beer\n",
       "4              Saint Kitts and Nevis           Beer\n",
       "5                          Guatemala          Other\n",
       "6                          Mauritius           Wine\n",
       "7                             Angola        Spirits\n",
       "8                Antigua and Barbuda        Spirits\n",
       "9                            Nigeria          Other\n",
       "10                          Botswana           Wine\n",
       "11                         Guatemala           Beer\n",
       "12  Lao People's Democratic Republic           Beer\n",
       "13                       Afghanistan          Other\n",
       "14                          Viet Nam        Spirits\n",
       "15                     Guinea-Bissau           Wine\n",
       "16                        Costa Rica           Wine\n",
       "17                        Seychelles           Beer\n",
       "18                            Norway        Spirits\n",
       "19                             Kenya           Beer"
      ]
     },
     "execution_count": 55,
     "metadata": {},
     "output_type": "execute_result"
    }
   ],
   "source": [
    "def filterRange(row_start, row_end, col_start, col_end):\n",
    "    return df.iloc[row_start : row_end, col_start : col_end]\n",
    "filterRange(1,20,2,4)"
   ]
  },
  {
   "attachments": {},
   "cell_type": "markdown",
   "metadata": {},
   "source": [
    "8. Write a Pandas program to filter those records where WHO region contains &quot;Ea&quot;\n",
    "substring from world alcohol consumption dataset."
   ]
  },
  {
   "cell_type": "code",
   "execution_count": 56,
   "metadata": {},
   "outputs": [
    {
     "name": "stdout",
     "output_type": "stream",
     "text": [
      "    Year             WHO region                                Country   \n",
      "13  1984  Eastern Mediterranean                            Afghanistan  \\\n",
      "20  1986        South-East Asia                                Myanmar   \n",
      "25  1984  Eastern Mediterranean                                Tunisia   \n",
      "27  1984  Eastern Mediterranean                                Bahrain   \n",
      "36  1987  Eastern Mediterranean                                  Egypt   \n",
      "38  1987  Eastern Mediterranean                                  Qatar   \n",
      "52  1986  Eastern Mediterranean                           Saudi Arabia   \n",
      "53  1984  Eastern Mediterranean                                 Kuwait   \n",
      "58  1984  Eastern Mediterranean                                Somalia   \n",
      "59  1989  Eastern Mediterranean                   Syrian Arab Republic   \n",
      "60  1987  Eastern Mediterranean             Iran (Islamic Republic of)   \n",
      "63  1985  Eastern Mediterranean                                  Libya   \n",
      "65  1989  Eastern Mediterranean                                Somalia   \n",
      "66  1987  Eastern Mediterranean                                   Iraq   \n",
      "73  1986  Eastern Mediterranean                               Pakistan   \n",
      "75  1989  Eastern Mediterranean                            Afghanistan   \n",
      "84  1986        South-East Asia                              Sri Lanka   \n",
      "87  1989  Eastern Mediterranean                                   Iraq   \n",
      "88  1987  Eastern Mediterranean                                Lebanon   \n",
      "89  1986  Eastern Mediterranean                                Lebanon   \n",
      "97  1984        South-East Asia                              Indonesia   \n",
      "99  1985        South-East Asia  Democratic People's Republic of Korea   \n",
      "\n",
      "   Beverage Types  Display Value  \n",
      "13          Other           0.00  \n",
      "20           Wine           0.00  \n",
      "25          Other           0.00  \n",
      "27           Beer           2.22  \n",
      "36           Beer           0.07  \n",
      "38          Other           0.00  \n",
      "52           Wine           0.00  \n",
      "53           Beer           0.00  \n",
      "58        Spirits           0.00  \n",
      "59          Other           0.00  \n",
      "60          Other           0.00  \n",
      "63          Other           0.00  \n",
      "65           Beer           0.00  \n",
      "66           Wine           0.01  \n",
      "73          Other           0.01  \n",
      "75          Other           0.00  \n",
      "84          Other           0.00  \n",
      "87           Wine           0.01  \n",
      "88           Beer           0.42  \n",
      "89           Wine           0.70  \n",
      "97           Wine           0.00  \n",
      "99           Wine           0.00  \n"
     ]
    }
   ],
   "source": [
    "print(df[df[\"WHO region\"].str.contains(\"Ea\")])"
   ]
  },
  {
   "attachments": {},
   "cell_type": "markdown",
   "metadata": {},
   "source": [
    "9. Write a Pandas program to filter those records where WHO region matches with multiple\n",
    "values (Africa, Eastern Mediterranean, Europe) from world alcohol consumption dataset."
   ]
  },
  {
   "cell_type": "code",
   "execution_count": 57,
   "metadata": {},
   "outputs": [
    {
     "name": "stdout",
     "output_type": "stream",
     "text": [
      "    Year WHO region            Country Beverage Types  Display Value\n",
      "2   1985     Africa       Cte d'Ivoire           Wine           1.62\n",
      "6   1987     Africa          Mauritius           Wine           0.13\n",
      "7   1985     Africa             Angola        Spirits           0.39\n",
      "9   1984     Africa            Nigeria          Other           6.10\n",
      "10  1987     Africa           Botswana           Wine           0.20\n",
      "..   ...        ...                ...            ...            ...\n",
      "93  1987     Africa         Madagascar          Other            NaN\n",
      "94  1985     Europe            Ukraine        Spirits           3.06\n",
      "95  1984     Africa              Niger          Other           0.00\n",
      "96  1985     Europe         Luxembourg           Wine           7.38\n",
      "98  1984     Africa  Equatorial Guinea           Wine           0.00\n",
      "\n",
      "[69 rows x 5 columns]\n"
     ]
    }
   ],
   "source": [
    "filtered = df[\"WHO region\"].isin([\"Africa\", \"Eastern Mediterranean\", \"Europe\"])\n",
    "print(df[filtered])"
   ]
  },
  {
   "attachments": {},
   "cell_type": "markdown",
   "metadata": {},
   "source": [
    "10. Write a Pandas program to filter all records where the average consumption of beverages\n",
    "per person from .5 to 2.50 in world alcohol consumption dataset."
   ]
  },
  {
   "cell_type": "code",
   "execution_count": 58,
   "metadata": {},
   "outputs": [
    {
     "name": "stdout",
     "output_type": "stream",
     "text": [
      "    Year WHO region                Country Beverage Types  Display Value\n",
      "2   1985     Africa           Cte d'Ivoire           Wine           1.62\n",
      "4   1987   Americas  Saint Kitts and Nevis           Beer           1.98\n",
      "8   1986   Americas    Antigua and Barbuda        Spirits           1.55\n",
      "11  1989   Americas              Guatemala           Beer           0.62\n",
      "17  1989     Africa             Seychelles           Beer           2.23\n"
     ]
    }
   ],
   "source": [
    "print(df[(df['Display Value'] < 2.5) & (df['Display Value']>.5)].head())"
   ]
  }
 ],
 "metadata": {
  "kernelspec": {
   "display_name": "Python 3",
   "language": "python",
   "name": "python3"
  },
  "language_info": {
   "codemirror_mode": {
    "name": "ipython",
    "version": 3
   },
   "file_extension": ".py",
   "mimetype": "text/x-python",
   "name": "python",
   "nbconvert_exporter": "python",
   "pygments_lexer": "ipython3",
   "version": "3.10.2"
  },
  "orig_nbformat": 4
 },
 "nbformat": 4,
 "nbformat_minor": 2
}
