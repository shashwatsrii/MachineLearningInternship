{
 "cells": [
  {
   "cell_type": "code",
   "execution_count": 2,
   "metadata": {},
   "outputs": [
    {
     "name": "stdout",
     "output_type": "stream",
     "text": [
      "['John', 'Alex']\n"
     ]
    }
   ],
   "source": [
    "import pandas as pd\n",
    "# Create the DataFrame\n",
    "data = {'Name': ['John', 'Mary', 'Alex', 'Sara'],\n",
    "        'Math': [85, 78, 92, 65],\n",
    "        'Science': [92, 88, 95, 75]}\n",
    "df = pd.DataFrame(data)\n",
    "# Calculate the mean scores for Math and Science\n",
    "math_mean = df['Math'].mean()\n",
    "science_mean = df['Science'].mean()\n",
    "# Extract the names of students who scored above the mean in both Math and Science\n",
    "above_mean_students = df[(df['Math'] > math_mean) & (df['Science'] > science_mean)]['Name']\n",
    "print(above_mean_students.to_list())"
   ]
  },
  {
   "cell_type": "code",
   "execution_count": 3,
   "metadata": {},
   "outputs": [
    {
     "name": "stdout",
     "output_type": "stream",
     "text": [
      "0    John\n",
      "2    Alex\n",
      "Name: Name, dtype: object\n"
     ]
    },
    {
     "name": "stderr",
     "output_type": "stream",
     "text": [
      "C:\\Users\\HP\\AppData\\Local\\Temp\\ipykernel_15700\\3113613595.py:13: UserWarning: Boolean Series key will be reindexed to match DataFrame index.\n",
      "  df2 = df1[m2]\n"
     ]
    }
   ],
   "source": [
    "import pandas as pd\n",
    "# Create the DataFrame\n",
    "data = {'Name': ['John', 'Mary', 'Alex', 'Sara'],\n",
    "        'Math': [85, 78, 92, 65],\n",
    "        'Science': [92, 88, 95, 75]}\n",
    "df = pd.DataFrame(data)\n",
    "# Calculate the mean scores for Math and Science\n",
    "math_mean = df['Math'].mean()\n",
    "science_mean = df['Science'].mean()\n",
    "m1 = df['Math'] > math_mean\n",
    "m2 = df['Science'] > science_mean\n",
    "df1 =df[m1]\n",
    "df2 = df1[m2]\n",
    "print(df2['Name'])"
   ]
  },
  {
   "cell_type": "code",
   "execution_count": 2,
   "metadata": {},
   "outputs": [
    {
     "name": "stdout",
     "output_type": "stream",
     "text": [
      "(array([0, 2, 3], dtype=int64), array([0, 0, 0], dtype=int64))\n"
     ]
    }
   ],
   "source": [
    "\n",
    "import numpy as np\n",
    "a = np.array([4, 5, 2, 8])\n",
    "b = np.array([3, 7, 1, 6])\n",
    "\n",
    "# Reshape both arrays into 2D format\n",
    "a_2d = a.reshape(-1, 1)\n",
    "b_2d = b.reshape(-1, 1)\n",
    "# Perform element-wise comparison\n",
    "comparison_result = a_2d > b_2d\n",
    "# Convert the result back to a 1D array of positions\n",
    "print(comparison_result)\n"
   ]
  }
 ],
 "metadata": {
  "kernelspec": {
   "display_name": "Python 3",
   "language": "python",
   "name": "python3"
  },
  "language_info": {
   "codemirror_mode": {
    "name": "ipython",
    "version": 3
   },
   "file_extension": ".py",
   "mimetype": "text/x-python",
   "name": "python",
   "nbconvert_exporter": "python",
   "pygments_lexer": "ipython3",
   "version": "3.10.2"
  },
  "orig_nbformat": 4
 },
 "nbformat": 4,
 "nbformat_minor": 2
}
