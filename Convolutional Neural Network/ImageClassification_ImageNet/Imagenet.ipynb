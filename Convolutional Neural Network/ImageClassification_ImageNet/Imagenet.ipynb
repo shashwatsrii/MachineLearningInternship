{
 "cells": [
  {
   "cell_type": "code",
   "execution_count": 1,
   "metadata": {},
   "outputs": [
    {
     "ename": "ModuleNotFoundError",
     "evalue": "No module named 'keras.preprocesssing'",
     "output_type": "error",
     "traceback": [
      "\u001b[1;31m---------------------------------------------------------------------------\u001b[0m",
      "\u001b[1;31mModuleNotFoundError\u001b[0m                       Traceback (most recent call last)",
      "\u001b[1;32mc:\\Users\\HP\\OneDrive\\Desktop\\MachineLearningInternship\\Convolutional Neural Network\\ImageClassification_ImageNet\\Imagenet.ipynb Cell 1\u001b[0m in \u001b[0;36m1\n\u001b[1;32m----> <a href='vscode-notebook-cell:/c%3A/Users/HP/OneDrive/Desktop/MachineLearningInternship/Convolutional%20Neural%20Network/ImageClassification_ImageNet/Imagenet.ipynb#W2sZmlsZQ%3D%3D?line=0'>1</a>\u001b[0m \u001b[39mfrom\u001b[39;00m \u001b[39mkeras\u001b[39;00m\u001b[39m.\u001b[39;00m\u001b[39mpreprocesssing\u001b[39;00m\u001b[39m.\u001b[39;00m\u001b[39mimage\u001b[39;00m \u001b[39mimport\u001b[39;00m ImageDataGenerator\n\u001b[0;32m      <a href='vscode-notebook-cell:/c%3A/Users/HP/OneDrive/Desktop/MachineLearningInternship/Convolutional%20Neural%20Network/ImageClassification_ImageNet/Imagenet.ipynb#W2sZmlsZQ%3D%3D?line=1'>2</a>\u001b[0m imagegen \u001b[39m=\u001b[39m ImageDataGenerator()\n",
      "\u001b[1;31mModuleNotFoundError\u001b[0m: No module named 'keras.preprocesssing'"
     ]
    }
   ],
   "source": [
    "import tensorflow\n",
    "from keras.preprocesssing.image import ImageDataGenerator\n",
    "imagegen = ImageDataGenerator()"
   ]
  }
 ],
 "metadata": {
  "kernelspec": {
   "display_name": "Python 3",
   "language": "python",
   "name": "python3"
  },
  "language_info": {
   "codemirror_mode": {
    "name": "ipython",
    "version": 3
   },
   "file_extension": ".py",
   "mimetype": "text/x-python",
   "name": "python",
   "nbconvert_exporter": "python",
   "pygments_lexer": "ipython3",
   "version": "3.10.2"
  },
  "orig_nbformat": 4
 },
 "nbformat": 4,
 "nbformat_minor": 2
}
