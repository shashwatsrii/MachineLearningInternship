{
 "cells": [
  {
   "cell_type": "code",
   "execution_count": 36,
   "metadata": {},
   "outputs": [],
   "source": [
    "import numpy as np\n",
    "import tensorflow as tf\n",
    "from keras.datasets import mnist\n",
    "import matplotlib.pyplot as plt\n",
    "from keras.utils import np_utils\n",
    "from keras.models import Sequential\n",
    "from keras.layers import Dense, Conv2D, Dropout, Flatten, MaxPool2D\n"
   ]
  },
  {
   "cell_type": "code",
   "execution_count": 37,
   "metadata": {},
   "outputs": [],
   "source": [
    "(X_train, Y_train),(X_test, Y_test) = mnist.load_data()"
   ]
  },
  {
   "cell_type": "code",
   "execution_count": 38,
   "metadata": {},
   "outputs": [
    {
     "name": "stdout",
     "output_type": "stream",
     "text": [
      "(60000, 28, 28)\n",
      "(60000,)\n",
      "(10000, 28, 28)\n",
      "(10000,)\n"
     ]
    }
   ],
   "source": [
    "print(X_train.shape)\n",
    "print(Y_train.shape)\n",
    "print(X_test.shape)\n",
    "print(Y_test.shape)"
   ]
  },
  {
   "cell_type": "code",
   "execution_count": 39,
   "metadata": {},
   "outputs": [
    {
     "data": {
      "text/plain": [
       "<matplotlib.image.AxesImage at 0x1d2db6c8b50>"
      ]
     },
     "execution_count": 39,
     "metadata": {},
     "output_type": "execute_result"
    },
    {
     "data": {
      "image/png": "[encoded data removed]",
      "text/plain": [
       "<Figure size 640x480 with 1 Axes>"
      ]
     },
     "metadata": {},
     "output_type": "display_data"
    }
   ],
   "source": [
    "plt.imshow(X_train[10])"
   ]
  },
  {
   "cell_type": "code",
   "execution_count": 41,
   "metadata": {},
   "outputs": [
    {
     "name": "stdout",
     "output_type": "stream",
     "text": [
      "(60000, 28, 28, 1)\n"
     ]
    }
   ],
   "source": [
    "#Reshape the images\n",
    "X_train = X_train.reshape(X_train.shape[0],28,28,1)\n",
    "X_test = X_test.reshape(X_test.shape[0],28,28,1)\n",
    "X_train = X_train.astype('float32')\n",
    "X_test = X_test.astype('float32')\n",
    "\n",
    "print(X_train.shape)"
   ]
  },
  {
   "cell_type": "code",
   "execution_count": 42,
   "metadata": {},
   "outputs": [],
   "source": [
    "#Normalize the data \n",
    "X_train = X_train/255\n",
    "X_test = X_test/255"
   ]
  },
  {
   "cell_type": "code",
   "execution_count": 43,
   "metadata": {},
   "outputs": [
    {
     "name": "stdout",
     "output_type": "stream",
     "text": [
      "Shape before one-hot encoding:  (60000,)\n",
      "Shape after one-hot encoding : (60000, 10)\n"
     ]
    }
   ],
   "source": [
    "#one-hot encoding\n",
    "no_classes = 10\n",
    "print('Shape before one-hot encoding: ',Y_train.shape)\n",
    "Y_train = np_utils.to_categorical(Y_train, no_classes)\n",
    "Y_test = np_utils.to_categorical(Y_test, no_classes)\n",
    "print(\"Shape after one-hot encoding :\", Y_train.shape)"
   ]
  },
  {
   "cell_type": "code",
   "execution_count": 44,
   "metadata": {},
   "outputs": [],
   "source": [
    "# Building the model\n",
    "model = Sequential([\n",
    "    Conv2D(28,kernel_size = (3,3), strides = (1,1), padding = 'valid', activation = 'relu', input_shape = (28,28,1)),\n",
    "    MaxPool2D(pool_size=(1,1)), \n",
    "    Flatten(),\n",
    "    Dense(100, activation ='relu'),\n",
    "    Dense(10, activation = 'softmax')\n",
    "])"
   ]
  },
  {
   "cell_type": "code",
   "execution_count": 45,
   "metadata": {},
   "outputs": [],
   "source": [
    "model.compile(loss = 'categorical_crossentropy',optimizer = 'adam', metrics = ['accuracy'])"
   ]
  },
  {
   "cell_type": "code",
   "execution_count": 46,
   "metadata": {},
   "outputs": [
    {
     "name": "stdout",
     "output_type": "stream",
     "text": [
      "Epoch 1/10\n",
      "469/469 [==============================] - 55s 107ms/step - loss: 0.1927 - accuracy: 0.9428 - val_loss: 0.0891 - val_accuracy: 0.9720\n",
      "Epoch 2/10\n",
      "469/469 [==============================] - 44s 94ms/step - loss: 0.0606 - accuracy: 0.9819 - val_loss: 0.0591 - val_accuracy: 0.9798\n",
      "Epoch 3/10\n",
      "469/469 [==============================] - 50s 106ms/step - loss: 0.0355 - accuracy: 0.9892 - val_loss: 0.0538 - val_accuracy: 0.9818\n",
      "Epoch 4/10\n",
      "469/469 [==============================] - 47s 101ms/step - loss: 0.0229 - accuracy: 0.9931 - val_loss: 0.0549 - val_accuracy: 0.9830\n",
      "Epoch 5/10\n",
      "469/469 [==============================] - 51s 109ms/step - loss: 0.0141 - accuracy: 0.9959 - val_loss: 0.0612 - val_accuracy: 0.9820\n",
      "Epoch 6/10\n",
      "469/469 [==============================] - 51s 109ms/step - loss: 0.0103 - accuracy: 0.9967 - val_loss: 0.0531 - val_accuracy: 0.9839\n",
      "Epoch 7/10\n",
      "469/469 [==============================] - 45s 95ms/step - loss: 0.0073 - accuracy: 0.9979 - val_loss: 0.0612 - val_accuracy: 0.9839\n",
      "Epoch 8/10\n",
      "469/469 [==============================] - 47s 101ms/step - loss: 0.0054 - accuracy: 0.9984 - val_loss: 0.0737 - val_accuracy: 0.9811\n",
      "Epoch 9/10\n",
      "469/469 [==============================] - 49s 105ms/step - loss: 0.0052 - accuracy: 0.9985 - val_loss: 0.0674 - val_accuracy: 0.9831\n",
      "Epoch 10/10\n",
      "469/469 [==============================] - 48s 103ms/step - loss: 0.0056 - accuracy: 0.9983 - val_loss: 0.0755 - val_accuracy: 0.9813\n"
     ]
    },
    {
     "data": {
      "text/plain": [
       "<keras.callbacks.History at 0x1d2dc027c40>"
      ]
     },
     "execution_count": 46,
     "metadata": {},
     "output_type": "execute_result"
    }
   ],
   "source": [
    "model.fit(X_train, Y_train, batch_size = 128, epochs =10, validation_data = (X_test, Y_test))"
   ]
  },
  {
   "cell_type": "code",
   "execution_count": 48,
   "metadata": {},
   "outputs": [
    {
     "data": {
      "text/plain": [
       "<matplotlib.image.AxesImage at 0x1d2dbad2080>"
      ]
     },
     "execution_count": 48,
     "metadata": {},
     "output_type": "execute_result"
    },
    {
     "data": {
      "image/png": "[encoded data removed]",
      "text/plain": [
       "<Figure size 640x480 with 1 Axes>"
      ]
     },
     "metadata": {},
     "output_type": "display_data"
    }
   ],
   "source": [
    "img = X_train[0]\n",
    "plt.imshow(img)"
   ]
  },
  {
   "cell_type": "code",
   "execution_count": 60,
   "metadata": {},
   "outputs": [
    {
     "name": "stdout",
     "output_type": "stream",
     "text": [
      "loss :  0.07552177459001541\n",
      "accuracy :  0.9812999963760376\n",
      "Accuracy of the model developed : 98.12999963760376 %\n"
     ]
    }
   ],
   "source": [
    "score = model.evaluate(X_test, Y_test, verbose = 0)\n",
    "print('loss : ',score[0])\n",
    "print('accuracy : ', score[1])\n",
    "\n",
    "# Therefore the accuracy \n",
    "print(\"Accuracy of the model developed : {} %\".format(score[1]*100))"
   ]
  }
 ],
 "metadata": {
  "kernelspec": {
   "display_name": "Python 3",
   "language": "python",
   "name": "python3"
  },
  "language_info": {
   "codemirror_mode": {
    "name": "ipython",
    "version": 3
   },
   "file_extension": ".py",
   "mimetype": "text/x-python",
   "name": "python",
   "nbconvert_exporter": "python",
   "pygments_lexer": "ipython3",
   "version": "3.10.2"
  },
  "orig_nbformat": 4
 },
 "nbformat": 4,
 "nbformat_minor": 2
}
