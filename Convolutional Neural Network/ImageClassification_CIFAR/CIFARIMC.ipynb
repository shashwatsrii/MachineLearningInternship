{
 "cells": [
  {
   "cell_type": "code",
   "execution_count": 51,
   "metadata": {},
   "outputs": [],
   "source": [
    "# import liabraries\n",
    "import tensorflow\n",
    "from keras.layers import Dense, Dropout, Conv2D, Flatten, MaxPool2D\n",
    "from keras.utils import np_utils\n",
    "from keras.models import Sequential\n",
    "from keras.datasets import cifar10\n",
    "import matplotlib.pyplot as plt"
   ]
  },
  {
   "cell_type": "code",
   "execution_count": 52,
   "metadata": {},
   "outputs": [],
   "source": [
    "# Load the dataset\n",
    "(X_train,Y_train), (X_test, Y_test) = cifar10.load_data()"
   ]
  },
  {
   "cell_type": "code",
   "execution_count": 53,
   "metadata": {},
   "outputs": [
    {
     "data": {
      "text/plain": [
       "<matplotlib.image.AxesImage at 0x2dbd166c7f0>"
      ]
     },
     "execution_count": 53,
     "metadata": {},
     "output_type": "execute_result"
    },
    {
     "data": {
      "image/png": "[encoded data removed]",
      "text/plain": [
       "<Figure size 640x480 with 1 Axes>"
      ]
     },
     "metadata": {},
     "output_type": "display_data"
    }
   ],
   "source": [
    "plt.imshow(X_train[5])"
   ]
  },
  {
   "cell_type": "code",
   "execution_count": 54,
   "metadata": {},
   "outputs": [
    {
     "name": "stdout",
     "output_type": "stream",
     "text": [
      "(50000, 32, 32, 3)\n",
      "(10000, 32, 32, 3)\n"
     ]
    }
   ],
   "source": [
    "print(X_train.shape)\n",
    "print(X_test.shape)"
   ]
  },
  {
   "cell_type": "code",
   "execution_count": 55,
   "metadata": {},
   "outputs": [],
   "source": [
    "# Building the inpur vector\n",
    "# Reshape the dataset to be input\n",
    "X_train = X_train.reshape(X_train.shape[0],32,32,3)\n",
    "X_test = X_test.reshape(X_test.shape[0],32,32,3)\n",
    "X_train = X_train.astype('float32')\n",
    "X_test = X_test.astype('float32')"
   ]
  },
  {
   "cell_type": "code",
   "execution_count": 56,
   "metadata": {},
   "outputs": [],
   "source": [
    "# Normalizing the data to help with the training\n",
    "X_train = X_train/255\n",
    "X_test = X_test/255"
   ]
  },
  {
   "cell_type": "code",
   "execution_count": 57,
   "metadata": {},
   "outputs": [
    {
     "data": {
      "text/plain": [
       "<matplotlib.image.AxesImage at 0x2dbd16d6770>"
      ]
     },
     "execution_count": 57,
     "metadata": {},
     "output_type": "execute_result"
    },
    {
     "data": {
      "image/png": "[encoded data removed]",
      "text/plain": [
       "<Figure size 640x480 with 1 Axes>"
      ]
     },
     "metadata": {},
     "output_type": "display_data"
    }
   ],
   "source": [
    "plt.imshow(X_train[5])"
   ]
  },
  {
   "cell_type": "code",
   "execution_count": 58,
   "metadata": {},
   "outputs": [
    {
     "name": "stdout",
     "output_type": "stream",
     "text": [
      "Shape before one-hot encoding :  (50000, 1)\n",
      "Shape after one-hot encoding :  (50000, 10) (10000, 10)\n"
     ]
    }
   ],
   "source": [
    "# One-hot encoding using np_utils\n",
    "no_classes = 10\n",
    "print(\"Shape before one-hot encoding : \", Y_train.shape)\n",
    "Y_train = np_utils.to_categorical(Y_train, no_classes)\n",
    "Y_test = np_utils.to_categorical(Y_test, no_classes)\n",
    "print(\"Shape after one-hot encoding : \", Y_train.shape,Y_test.shape)\n"
   ]
  },
  {
   "cell_type": "code",
   "execution_count": 59,
   "metadata": {},
   "outputs": [
    {
     "name": "stdout",
     "output_type": "stream",
     "text": [
      "(32, 32, 3)\n"
     ]
    }
   ],
   "source": [
    "print(X_train[0].shape)"
   ]
  },
  {
   "cell_type": "code",
   "execution_count": 60,
   "metadata": {},
   "outputs": [],
   "source": [
    "# Building the model\n",
    "model = Sequential([\n",
    "    Conv2D(50, kernel_size=(3,3), strides = (1,1), padding = 'same', activation='relu', input_shape = (32,32,3)),\n",
    "    Conv2D(75, kernel_size = (3,3), strides = (1,1), padding = 'same', activation ='relu'),\n",
    "    MaxPool2D(pool_size = (2,2)),\n",
    "    Dropout(0.25),\n",
    "    Conv2D(125, kernel_size = (3,3), strides = (1,1), padding ='same', activation ='relu'),\n",
    "    MaxPool2D(pool_size = (2,2)),\n",
    "    Dropout(0.25),\n",
    "\n",
    "    Flatten(),\n",
    "\n",
    "    Dense(500, activation ='relu'),\n",
    "    Dense(250, activation = 'relu'),\n",
    "    Dropout(0.25),\n",
    "    Dense(10, activation = 'softmax')\n",
    "\n",
    "])"
   ]
  },
  {
   "cell_type": "code",
   "execution_count": 61,
   "metadata": {},
   "outputs": [],
   "source": [
    "model.compile(optimizer= 'adam', loss= 'categorical_crossentropy',metrics = ['accuracy'])"
   ]
  },
  {
   "cell_type": "code",
   "execution_count": 62,
   "metadata": {},
   "outputs": [
    {
     "name": "stdout",
     "output_type": "stream",
     "text": [
      "(50000, 32, 32, 3)\n",
      "(50000, 10)\n",
      "(10000, 32, 32, 3)\n",
      "(10000, 10)\n"
     ]
    }
   ],
   "source": [
    "print(X_train.shape)\n",
    "print(Y_train.shape)\n",
    "print(X_test.shape)\n",
    "print(Y_test.shape)"
   ]
  },
  {
   "cell_type": "code",
   "execution_count": 63,
   "metadata": {},
   "outputs": [
    {
     "name": "stdout",
     "output_type": "stream",
     "text": [
      "Epoch 1/10\n",
      "391/391 [==============================] - 191s 484ms/step - loss: 1.4717 - accuracy: 0.4644 - val_loss: 1.0678 - val_accuracy: 0.6276\n",
      "Epoch 2/10\n",
      "391/391 [==============================] - 197s 503ms/step - loss: 0.9862 - accuracy: 0.6549 - val_loss: 0.8597 - val_accuracy: 0.6965\n",
      "Epoch 3/10\n",
      "391/391 [==============================] - 197s 503ms/step - loss: 0.7835 - accuracy: 0.7262 - val_loss: 0.7560 - val_accuracy: 0.7388\n",
      "Epoch 4/10\n",
      "391/391 [==============================] - 203s 518ms/step - loss: 0.6589 - accuracy: 0.7721 - val_loss: 0.7020 - val_accuracy: 0.7568\n",
      "Epoch 5/10\n",
      "391/391 [==============================] - 203s 519ms/step - loss: 0.5467 - accuracy: 0.8081 - val_loss: 0.7010 - val_accuracy: 0.7523\n",
      "Epoch 6/10\n",
      "391/391 [==============================] - 211s 540ms/step - loss: 0.4524 - accuracy: 0.8417 - val_loss: 0.6782 - val_accuracy: 0.7762\n",
      "Epoch 7/10\n",
      "391/391 [==============================] - 220s 563ms/step - loss: 0.3834 - accuracy: 0.8648 - val_loss: 0.6835 - val_accuracy: 0.7759\n",
      "Epoch 8/10\n",
      "391/391 [==============================] - 220s 563ms/step - loss: 0.3155 - accuracy: 0.8894 - val_loss: 0.7038 - val_accuracy: 0.7780\n",
      "Epoch 9/10\n",
      "391/391 [==============================] - 216s 554ms/step - loss: 0.2603 - accuracy: 0.9092 - val_loss: 0.8041 - val_accuracy: 0.7675\n",
      "Epoch 10/10\n",
      "391/391 [==============================] - 229s 585ms/step - loss: 0.2225 - accuracy: 0.9215 - val_loss: 0.7921 - val_accuracy: 0.7780\n"
     ]
    },
    {
     "data": {
      "text/plain": [
       "<keras.callbacks.History at 0x2dbd1554700>"
      ]
     },
     "execution_count": 63,
     "metadata": {},
     "output_type": "execute_result"
    }
   ],
   "source": [
    "model.fit(X_train, Y_train, epochs = 10, batch_size = 128, validation_data=(X_test,Y_test))"
   ]
  },
  {
   "cell_type": "code",
   "execution_count": 64,
   "metadata": {},
   "outputs": [
    {
     "name": "stdout",
     "output_type": "stream",
     "text": [
      "Model: \"sequential_1\"\n",
      "_________________________________________________________________\n",
      " Layer (type)                Output Shape              Param #   \n",
      "=================================================================\n",
      " conv2d_3 (Conv2D)           (None, 32, 32, 50)        1400      \n",
      "                                                                 \n",
      " conv2d_4 (Conv2D)           (None, 32, 32, 75)        33825     \n",
      "                                                                 \n",
      " max_pooling2d_2 (MaxPooling  (None, 16, 16, 75)       0         \n",
      " 2D)                                                             \n",
      "                                                                 \n",
      " dropout_3 (Dropout)         (None, 16, 16, 75)        0         \n",
      "                                                                 \n",
      " conv2d_5 (Conv2D)           (None, 16, 16, 125)       84500     \n",
      "                                                                 \n",
      " max_pooling2d_3 (MaxPooling  (None, 8, 8, 125)        0         \n",
      " 2D)                                                             \n",
      "                                                                 \n",
      " dropout_4 (Dropout)         (None, 8, 8, 125)         0         \n",
      "                                                                 \n",
      " flatten_1 (Flatten)         (None, 8000)              0         \n",
      "                                                                 \n",
      " dense_3 (Dense)             (None, 500)               4000500   \n",
      "                                                                 \n",
      " dense_4 (Dense)             (None, 250)               125250    \n",
      "                                                                 \n",
      " dropout_5 (Dropout)         (None, 250)               0         \n",
      "                                                                 \n",
      " dense_5 (Dense)             (None, 10)                2510      \n",
      "                                                                 \n",
      "=================================================================\n",
      "Total params: 4,247,985\n",
      "Trainable params: 4,247,985\n",
      "Non-trainable params: 0\n",
      "_________________________________________________________________\n"
     ]
    }
   ],
   "source": [
    "model.summary()"
   ]
  },
  {
   "cell_type": "code",
   "execution_count": 65,
   "metadata": {},
   "outputs": [
    {
     "name": "stdout",
     "output_type": "stream",
     "text": [
      "loss :  0.7921159863471985\n",
      "accuracy :  0.777999997138977\n",
      "Accuracy of the model developed : 77.7999997138977 %\n"
     ]
    }
   ],
   "source": [
    "score = model.evaluate(X_test, Y_test, verbose = 0)\n",
    "print('loss : ',score[0])\n",
    "print('accuracy : ', score[1])\n",
    "\n",
    "# Therefore the accuracy \n",
    "print(\"Accuracy of the model developed : {} %\".format(score[1]*100))"
   ]
  }
 ],
 "metadata": {
  "kernelspec": {
   "display_name": "Python 3",
   "language": "python",
   "name": "python3"
  },
  "language_info": {
   "codemirror_mode": {
    "name": "ipython",
    "version": 3
   },
   "file_extension": ".py",
   "mimetype": "text/x-python",
   "name": "python",
   "nbconvert_exporter": "python",
   "pygments_lexer": "ipython3",
   "version": "3.10.2"
  },
  "orig_nbformat": 4
 },
 "nbformat": 4,
 "nbformat_minor": 2
}
